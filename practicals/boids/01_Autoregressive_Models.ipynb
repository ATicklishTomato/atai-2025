{
 "cells": [
  {
   "cell_type": "markdown",
   "metadata": {},
   "source": [
    "# Autoregressive Models\n",
    "\n",
    "In this practical, we'll go over the following topics:\n",
    "- Autoregressive models and when to use them\n",
    "- Implementing equivariances in Autoregressive GNNs\n",
    "- Evaluating scientific AI models\n",
    "\n",
    "But first, a short introduction on the dataset used for this practical.\n",
    "\n",
    "[Boids gif] (figures/boids.gif)\n",
    "\n",
    "## Boids (by Craig Reynolds)\n",
    "\n",
    "The Boids algorithm, developed by Craig Reynolds [2], aims to replicate the behavior of flocking birds. \n",
    "\n",
    "The simplest setting, used in this practical, follows three simple rules:\n",
    "\n",
    "1. Separation: Each boid should steer away from crowding local flockmates (avoiding collisions)\n",
    "2. Alignment: Each boid should steer towards the average heading of local flockmates\n",
    "3. Cohesion: Each boid should steer towards the average position of local flockmates\n",
    "\n",
    "With some parameter tuning, these rules allow for some surprisingly realistic behavior. A gif of one of the simulations is shown above.\n",
    "\n",
    "### Implementation details\n",
    "\n",
    "Our dataset consists of 1000 samples of Boids simulations. Each simulation has 25 Boids and continues for 1000 timesteps. The Boids fly around in a 2D grid of 1000 x 1000 units.\n",
    "\n",
    "In our simulations, Boids steer away from eachother (Separation) if they are within 16 units of eachother. Boids steer towards the average heading/position of all (local) flockmates within 40 units.*\n",
    "Finally, we use periodic boundary conditions; Boids cannot leave the screen, they re-enter on the other side (pacman style).\n",
    "\n",
    "* We use Euclidean distance (with PBC) here to compute the distance between boids. For a more detailed explanation, visit [The minimum image convention](https://en.wikibooks.org/wiki/Molecular_Simulation/Periodic_Boundary_Conditions) section of the wikibooks page on PBC.\n",
    "\n",
    "## Problem setting\n",
    "\n",
    "Boids simulations feature complex interactions between multiple actors (nodes). The simulation can be chaotic and very sensitive to initial conditions. \n",
    "\n",
    "\n",
    "This makes it an interesting playground for the models/frameworks discussed in the course. In this practical, we will implement an AR model from scratch, then gradually introduce equivariances and training/evaluation methods.\n"
   ]
  },
  {
   "metadata": {
    "ExecuteTime": {
     "end_time": "2025-09-10T10:00:22.909932Z",
     "start_time": "2025-09-10T10:00:22.905662Z"
    }
   },
   "cell_type": "code",
   "source": [
    "import torch \n",
    "import torch_geometric\n",
    "from torch_geometric.data import Data, InMemoryDataset\n",
    "from torch_geometric.loader import DataLoader\n",
    "import numpy as np\n",
    "import matplotlib.pyplot as plt\n",
    "import os"
   ],
   "outputs": [],
   "execution_count": 17
  },
  {
   "cell_type": "markdown",
   "metadata": {},
   "source": [
    "## Data exploration\n",
    "\n",
    "First let's look at the data structure, and some statistics."
   ]
  },
  {
   "cell_type": "code",
   "metadata": {
    "ExecuteTime": {
     "end_time": "2025-09-10T10:00:22.959823Z",
     "start_time": "2025-09-10T10:00:22.924147Z"
    }
   },
   "source": [
    "trajectories = [np.load(f\"../../data/boids/raw/{f}\") for f in os.listdir(\"../../data/boids/raw\") if f.endswith(\".npy\")]\n",
    "print(len(trajectories))"
   ],
   "outputs": [
    {
     "name": "stdout",
     "output_type": "stream",
     "text": [
      "26\n"
     ]
    }
   ],
   "execution_count": 18
  },
  {
   "cell_type": "code",
   "metadata": {
    "ExecuteTime": {
     "end_time": "2025-09-10T10:00:22.986424Z",
     "start_time": "2025-09-10T10:00:22.982790Z"
    }
   },
   "source": [
    "print(\"Single trajectory shape:\")\n",
    "print(trajectories[0].shape)\n",
    "print(\"The axes and their cardinalities; (Timesteps:1000, Boids:25, (Position X, Position Y, Velocity x, Velocity y):4)\")"
   ],
   "outputs": [
    {
     "name": "stdout",
     "output_type": "stream",
     "text": [
      "Single trajectory shape:\n",
      "(1000, 25, 4)\n",
      "The axes and their cardinalities; (Timesteps:1000, Boids:25, (Position X, Position Y, Velocity x, Velocity y):4)\n"
     ]
    }
   ],
   "execution_count": 19
  },
  {
   "cell_type": "code",
   "metadata": {
    "ExecuteTime": {
     "end_time": "2025-09-10T10:00:23.079800Z",
     "start_time": "2025-09-10T10:00:23.039402Z"
    }
   },
   "source": [
    "# Print the mean, std, min and max of the boid positions, velocities\n",
    "positions = np.array([t[:, :, :2] for t in trajectories])\n",
    "velocities = np.array([t[:, :, 2:] for t in trajectories])\n",
    "\n",
    "print(\"Position mean, std, min, max:\")\n",
    "# Round to 2 decimal places\n",
    "print(round(np.mean(positions),2), round(np.std(positions),2), round(np.min(positions), 2), round(np.max(positions), 2))\n",
    "print()\n",
    "print(\"Velocity mean, std, min, max:\")\n",
    "# Round to 2 decimal places\n",
    "print(round(np.mean(velocities),2), round(np.std(velocities),2), round(np.min(velocities), 2), round(np.max(velocities), 2))"
   ],
   "outputs": [
    {
     "name": "stdout",
     "output_type": "stream",
     "text": [
      "Position mean, std, min, max:\n",
      "500.32 290.61 0.0 1000.0\n",
      "\n",
      "Velocity mean, std, min, max:\n",
      "-0.35 2.96 -6.0 6.0\n"
     ]
    }
   ],
   "execution_count": 20
  },
  {
   "cell_type": "code",
   "metadata": {
    "ExecuteTime": {
     "end_time": "2025-09-10T10:00:23.099246Z",
     "start_time": "2025-09-10T10:00:23.094419Z"
    }
   },
   "source": [
    "def plot_state(trajectory, timestep):\n",
    "    fig, ax = plt.subplots()\n",
    "    # Plot dots for the boids\n",
    "    ax.scatter(trajectory[timestep, :, 0], trajectory[timestep, :, 1])\n",
    "    # plot the boid velocities as arrows\n",
    "    for i in range(trajectory.shape[1]):\n",
    "        # NOTE: The arrows are made larger for effect\n",
    "        ax.arrow(trajectory[timestep, i, 0], trajectory[timestep, i, 1], trajectory[timestep, i, 2]*5, trajectory[timestep, i, 3]*5)\n",
    "    return ax"
   ],
   "outputs": [],
   "execution_count": 21
  },
  {
   "cell_type": "code",
   "metadata": {
    "ExecuteTime": {
     "end_time": "2025-09-10T10:00:23.701101Z",
     "start_time": "2025-09-10T10:00:23.146981Z"
    }
   },
   "source": [
    "# Plot timesteps 0, 250, 500, 750, 999 for the first trajectory\n",
    "trajectory = trajectories[0]\n",
    "fig, axs = plt.subplots(1, 5, figsize=(20, 4))\n",
    "for i, t in enumerate([0, 250, 500, 750, 999]):\n",
    "    axs[i].set_title(f\"Timestep {t}\")\n",
    "    # Plot dots for the boids\n",
    "    axs[i].scatter(trajectory[t, :, 0], trajectory[t, :, 1])\n",
    "    # plot the boid velocities as arrows\n",
    "    for j in range(trajectory.shape[1]):\n",
    "        # NOTE: The arrows are made larger for effect\n",
    "        axs[i].arrow(trajectory[t, j, 0], trajectory[t, j, 1], trajectory[t, j, 2]*5, trajectory[t, j, 3]*5)\n",
    "plt.show()"
   ],
   "outputs": [
    {
     "data": {
      "text/plain": [
       "<Figure size 2000x400 with 5 Axes>"
      ],
      "image/png": "[encoded data removed]"
     },
     "metadata": {},
     "output_type": "display_data",
     "jetTransient": {
      "display_id": null
     }
    }
   ],
   "execution_count": 22
  },
  {
   "cell_type": "markdown",
   "metadata": {},
   "source": [
    "In the plot above, you can see that after some warmup time, the boids start to form flocks. Flocking behavior is a form of inter-node communication, which we will come back to again later.\n",
    "\n",
    "Thinking back to the Geometric Deep Learning framework, we can identify the following symmetries in the data:\n",
    "\n",
    "- The boids are equivariant to permutations, ie it does not matter in which order we compute the update rules for the boids.\n",
    "- Local flocks of boids are equivariant to translation, rotation and reflection. \n",
    "\n",
    "Following these symmetries, it makes sense to model the boids using a Graph Neural Network (GNN). Specifically, since we are dealing with inter-node communication, we will be implementing a Message Passing GNN here.\n",
    "\n",
    "But first, we create a `torch_geometric` InMemoryDataset object, to model the data as a graph."
   ]
  },
  {
   "cell_type": "code",
   "metadata": {
    "ExecuteTime": {
     "end_time": "2025-09-10T10:00:23.732735Z",
     "start_time": "2025-09-10T10:00:23.722116Z"
    }
   },
   "source": [
    "class AR_Boids_Dataset(InMemoryDataset):\n",
    "    def __init__(self, raw_data_path, processed_data_path, root=None, transform=None, pre_transform=None, post_transform=None, solution_idx_range=(0, 25), timesteps=1000, processed_file_name=\"AR1_Boids.pt\"):\n",
    "        self.raw_data_path = raw_data_path\n",
    "        self.processed_data_path = processed_data_path\n",
    "        self.solution_idx_range = solution_idx_range\n",
    "        self.timesteps = timesteps\n",
    "        self.processed_file_name = processed_file_name\n",
    "        self.pre_transform = pre_transform\n",
    "        self.transform = transform\n",
    "        self.post_transform = post_transform\n",
    "        super(AR_Boids_Dataset, self).__init__(root, transform, pre_transform)\n",
    "        self.data, self.slices = torch.load(self.processed_paths[0], weights_only=False)\n",
    "\n",
    "    @property\n",
    "    def processed_file_names(self):\n",
    "        return [self.processed_file_name]\n",
    "\n",
    "    @property\n",
    "    def raw_file_names(self):\n",
    "        return [pfn for pfn in os.listdir(self.raw_data_path) if (self.solution_idx_range[0] <= int(pfn.split(\"_\")[-1][:-4]) < self.solution_idx_range[1])]\n",
    "    \n",
    "    def download(self):\n",
    "        pass\n",
    "    \n",
    "    def __len__(self):\n",
    "        return (self.timesteps - 1) * (self.solution_idx_range[1] - self.solution_idx_range[0])\n",
    "\n",
    "    def process(self):\n",
    "        data_list = []\n",
    "        for idx, raw_path in enumerate(self.raw_file_names):\n",
    "            trajectory = np.load(self.raw_data_path + raw_path)\n",
    "\n",
    "            if self.transform is not None:\n",
    "                trajectory = self.transform(trajectory)\n",
    "\n",
    "            for t in range(trajectory.shape[0] - 1):\n",
    "                x = torch.tensor(trajectory[t], dtype=torch.float)\n",
    "                y_temp = torch.tensor(trajectory[t+1], dtype=torch.float)\n",
    "                # Right now y is (position x, position y, velocity x, velocity y) for the next timestep\n",
    "                # However, we want delta position and delta velocity\n",
    "                # Luckily, the delta poisition is just the velocity from the next timestep, and the delta velocity is the acceleration\n",
    "                # So we can just take the last two elements of y to get the delta velocity\n",
    "                # First we copy the last two columns of y to the first two columns of y\n",
    "                y = y_temp.clone()\n",
    "                y[:, :2] = y_temp[:, 2:]\n",
    "                # Then we calculate the acceleration\n",
    "                y[:, 2:] = y_temp[:, 2:] - x[:, 2:]\n",
    "\n",
    "                edge_index = torch.tensor([[i, j] for i in range(trajectory.shape[1]) for j in range(trajectory.shape[1]) if i != j], dtype=torch.long).t().contiguous()\n",
    "    \n",
    "                if self.post_transform is not None:\n",
    "                    data = self.post_transform(data)\n",
    "                \n",
    "                data = Data(x=x, y=y, edge_index=edge_index)\n",
    "                data_list.append(data)\n",
    "        data, slices = self.collate(data_list)\n",
    "        torch.save((data, slices), self.processed_data_path+self.processed_file_name)\n",
    "\n",
    "    def __getitem__(self, idx):\n",
    "        return self.get(idx)\n",
    "    \n",
    "    def __repr__(self):\n",
    "        return f'{self.__class__.__name__}({len(self)})'"
   ],
   "outputs": [],
   "execution_count": 23
  },
  {
   "cell_type": "code",
   "metadata": {
    "ExecuteTime": {
     "end_time": "2025-09-10T10:00:24.056713Z",
     "start_time": "2025-09-10T10:00:23.783355Z"
    }
   },
   "source": [
    "train_dataset = AR_Boids_Dataset(raw_data_path=\"../../data/boids/raw/\", processed_data_path=\"../../data/boids/processed/\", root=\"../../data/boids/\", solution_idx_range=(0, 15), timesteps=1000, processed_file_name=\"AR1_Boids.pt\")\n",
    "validation_dataset = AR_Boids_Dataset(raw_data_path=\"../../data/boids/raw/\", processed_data_path=\"../../data/boids/processed/\", root=\"../../data/boids/\", solution_idx_range=(16, 25), timesteps=1000, processed_file_name=\"AR1_VAL_Boids.pt\")\n",
    "\n",
    "print(train_dataset)\n",
    "print(validation_dataset)\n",
    "\n",
    "\n",
    "data_0 = train_dataset[0]\n",
    "print(data_0)\n",
    "print(data_0.keys)\n",
    "print(\"Pos x, Pos y, Vel x, Vel y\")\n",
    "print(data_0.x[0,:])"
   ],
   "outputs": [
    {
     "name": "stdout",
     "output_type": "stream",
     "text": [
      "AR_Boids_Dataset(14985)\n",
      "AR_Boids_Dataset(8991)\n",
      "Data(x=[25, 4], edge_index=[2, 600], y=[25, 4])\n",
      "<bound method BaseData.keys of Data(x=[25, 4], edge_index=[2, 600], y=[25, 4])>\n",
      "Pos x, Pos y, Vel x, Vel y\n",
      "tensor([994.,  79.,  -5.,  -4.])\n"
     ]
    }
   ],
   "execution_count": 24
  },
  {
   "cell_type": "markdown",
   "metadata": {},
   "source": [
    "## Autoregressive Models\n",
    "In general, when dealing with simulations spanning multiple timesteps, we can define the learning problem as follows.\n",
    "\n",
    "Let $X^{0:T-1}$ denote the states spanning across timesteps $t=0$ through $t=T-1$. Given the initial state $X^0$, our goal is to accurately predict the future states $X^{1:T-1}$. In the probabilistic case, we want to learn a model with parameters $\\theta$ for the probability distribution $P_\\theta(X^{1:T-1}|X^0)$.*\n",
    "\n",
    "In some systems, such as in the Boids setting, the next state X^{t+1} is only dependent on the current state X^t. Such systems are memoryless, and are often said to be _Markovian_. The Markov property allows us to rewrite the learning task to $P_\\theta(X^{1:T-1}|X^0) = P(X^0) \\cdot \\prod_{t=1}^{T-1} P_\\theta(X^{t+1} | X^t)$\n",
    "\n",
    "Here, $P_\\theta(X^{t+1} | X^t)$ is the _Autoregressive model_ - literally meaning it is used to autoregressively construct the full trajectory of the system. Note that this model is autoregressive in time; not space.\n",
    "\n",
    "*: In this practical, we will not be building a probabilistic model. So instead of parameterizing a distribution, we learn a function $f_\\theta: X^t \\rightarrow X^{t+1}$."
   ]
  },
  {
   "cell_type": "markdown",
   "metadata": {},
   "source": [
    "### Autoregressive set model\n",
    "\n",
    "Below, we create the simplest AR model for the Boids system; a fully connected GNN (essentially a set model).\n",
    "\n",
    "Given a fully connected graph $X^t$, representing the Boids system at time $t$; it learns to predict the next state of the system $X^t+1$.\n",
    "\n",
    "Note here that we use all features from the dataset as node features. This causes the model to not be equivariant to some group actions, that are relevant in the Boids setting.\n",
    "\n",
    "---\n",
    "\n",
    "Tick the equivariance(s) of this model:\n",
    "\n",
    "- <input\n",
    "      type=\"checkbox\"\n",
    "      id=\"eq0\"\n",
    "      name=\"perm\"\n",
    "      value=\"perm\" />\n",
    "    <label for=\"eq1\">Permutational Equivariance</label>\n",
    "\n",
    "- <input\n",
    "      type=\"checkbox\"\n",
    "      id=\"eq1\"\n",
    "      name=\"space\"\n",
    "      value=\"space\" />\n",
    "    <label for=\"eq1\">Space Translation Equivariance</label>\n",
    "\n",
    "- <input\n",
    "      type=\"checkbox\"\n",
    "      id=\"eq2\"\n",
    "      name=\"time\"\n",
    "      value=\"time\" />\n",
    "    <label for=\"eq2\">Time Translation Equivariance</label>\n",
    "\n",
    "- <input\n",
    "      type=\"checkbox\"\n",
    "      id=\"eq3\"\n",
    "      name=\"rot\"\n",
    "      value=\"rot\" />\n",
    "    <label for=\"eq3\">Rotation/Reflection Equivariance</label>"
   ]
  },
  {
   "cell_type": "code",
   "metadata": {
    "ExecuteTime": {
     "end_time": "2025-09-10T10:00:24.094379Z",
     "start_time": "2025-09-10T10:00:24.089526Z"
    }
   },
   "source": [
    "class AR_Set_Model(torch.nn.Module):\n",
    "    def __init__(self, node_dim=4, emb_dim=16, out_dim=4):\n",
    "        super(AR_Set_Model, self).__init__()\n",
    "        self.node_embedding = torch.nn.Linear(node_dim, emb_dim)\n",
    "        self.conv1 = torch_geometric.nn.GCNConv(emb_dim, emb_dim)\n",
    "        self.conv2 = torch_geometric.nn.GCNConv(emb_dim, out_dim)\n",
    "    \n",
    "    def forward(self, data):\n",
    "        x, edge_index = data.x, data.edge_index\n",
    "        x = self.node_embedding(x)\n",
    "        x = torch.nn.functional.relu(x)\n",
    "        x = self.conv1(x, edge_index)\n",
    "        x = torch.nn.functional.relu(x)\n",
    "        x = self.conv2(x, edge_index)\n",
    "        return x"
   ],
   "outputs": [],
   "execution_count": 25
  },
  {
   "cell_type": "code",
   "metadata": {
    "ExecuteTime": {
     "end_time": "2025-09-10T10:00:24.149982Z",
     "start_time": "2025-09-10T10:00:24.140214Z"
    }
   },
   "source": [
    "class Trainer:\n",
    "    def __init__(self, model, train_dataset, validation_dataset, batch_size=1, lr=0.0001, epochs=100, loss_fn=torch.nn.MSELoss(), model_name= \"01-AR-Set-Model.pt\"):\n",
    "        \"\"\"\n",
    "        Simple Trainer class to train a PyTorch (geometric) model on a dataset.\n",
    "\n",
    "        Args:\n",
    "            model: PyTorch model to train\n",
    "            train_dataset: PyTorch dataset to train on\n",
    "            validation_dataset: PyTorch dataset to validate on\n",
    "            batch_size: Batch size for training\n",
    "            lr: Learning rate\n",
    "            epochs: Number of epochs to train for\n",
    "            loss_fn: Loss function to use\n",
    "        \"\"\"\n",
    "        self.model = model\n",
    "        self.train_dataset = train_dataset\n",
    "        self.validation_dataset = validation_dataset\n",
    "        self.batch_size = batch_size\n",
    "        self.lr = lr\n",
    "        self.epochs = epochs\n",
    "        self.loss_fn = loss_fn\n",
    "        self.model_name = model_name\n",
    "\n",
    "        self.device = torch.device('cuda' if torch.cuda.is_available() else 'cpu')\n",
    "        print(\"Using device:\", self.device)\n",
    "        self.model.to(self.device)\n",
    "        self.optimizer = torch.optim.Adam(self.model.parameters(), lr=self.lr)\n",
    "\n",
    "        self.train_loader = self.make_data_loader(self.train_dataset)\n",
    "        self.validation_loader = self.make_data_loader(self.validation_dataset, shuffle=False)\n",
    "\n",
    "    def make_data_loader(self, dataset, shuffle=True):\n",
    "        return DataLoader(dataset, batch_size=self.batch_size, shuffle=shuffle)\n",
    "\n",
    "    def train_loop(self):\n",
    "        \"\"\"\n",
    "        Train loop for the model\n",
    "        \"\"\"\n",
    "        best_model_loss = np.inf\n",
    "        for epoch in range(self.epochs):\n",
    "            # Train the model\n",
    "            self.model.train()\n",
    "            mean_train_loss = 0\n",
    "            for i, data in enumerate(self.train_loader):\n",
    "                data = self.train_dataset[i].to(self.device)\n",
    "                self.optimizer.zero_grad()\n",
    "                out = self.model(data)\n",
    "                loss = self.loss_fn(out, data.y)\n",
    "                loss.backward()\n",
    "                self.optimizer.step()\n",
    "                mean_train_loss += loss.item()\n",
    "            mean_train_loss /= i\n",
    "            \n",
    "            # Validate the model\n",
    "            self.model.eval()\n",
    "            mean_val_loss = 0\n",
    "            with torch.no_grad():\n",
    "                for i, data in enumerate(self.validation_loader):\n",
    "                    data = self.validation_dataset[i].to(self.device)\n",
    "                    out = self.model(data)\n",
    "                    loss = self.loss_fn(out, data.y)\n",
    "                    mean_val_loss += loss.item()\n",
    "                mean_val_loss /= i\n",
    "\n",
    "            if mean_val_loss < best_model_loss:\n",
    "                best_model_loss = mean_val_loss\n",
    "                torch.save(self.model.state_dict(), f\"../../models/{self.model_name}\")\n",
    "            \n",
    "            print(f\"Epoch {epoch}, Mean Train Loss: {mean_train_loss}, Mean Validation Loss: {mean_val_loss}\")\n",
    "\n"
   ],
   "outputs": [],
   "execution_count": 26
  },
  {
   "cell_type": "code",
   "metadata": {
    "ExecuteTime": {
     "end_time": "2025-09-10T10:14:38.664614Z",
     "start_time": "2025-09-10T10:00:25.741540Z"
    }
   },
   "source": [
    "model = AR_Set_Model(emb_dim=64)\n",
    "trainer = Trainer(model, train_dataset, validation_dataset, batch_size=8, loss_fn=torch.nn.MSELoss(), epochs=100, model_name=\"01-AR-Set-Model.pt\")\n",
    "trainer.train_loop()"
   ],
   "outputs": [
    {
     "name": "stdout",
     "output_type": "stream",
     "text": [
      "Using device: cuda\n",
      "Epoch 0, Mean Train Loss: 43.431147418108715, Mean Validation Loss: 103.18495647416833\n",
      "Epoch 1, Mean Train Loss: 7.756921569039589, Mean Validation Loss: 107.89841926766631\n",
      "Epoch 2, Mean Train Loss: 7.10094689705508, Mean Validation Loss: 101.52479021950481\n",
      "Epoch 3, Mean Train Loss: 7.001077513356165, Mean Validation Loss: 103.99790151800731\n",
      "Epoch 4, Mean Train Loss: 6.991512192040284, Mean Validation Loss: 99.24315493189641\n",
      "Epoch 5, Mean Train Loss: 6.911490799842261, Mean Validation Loss: 91.07033238406703\n",
      "Epoch 6, Mean Train Loss: 7.14287191117058, Mean Validation Loss: 92.35835758852089\n",
      "Epoch 7, Mean Train Loss: 7.199734575915197, Mean Validation Loss: 94.75095254251815\n",
      "Epoch 8, Mean Train Loss: 6.861962452650197, Mean Validation Loss: 84.14655221028723\n",
      "Epoch 9, Mean Train Loss: 6.80223259980578, Mean Validation Loss: 90.28900208986984\n",
      "Epoch 10, Mean Train Loss: 7.268236198211442, Mean Validation Loss: 85.76104954386649\n",
      "Epoch 11, Mean Train Loss: 6.673320197448079, Mean Validation Loss: 79.29889744345036\n",
      "Epoch 12, Mean Train Loss: 6.311280329534222, Mean Validation Loss: 71.12458797235735\n",
      "Epoch 13, Mean Train Loss: 6.015152399258631, Mean Validation Loss: 71.4453692843844\n",
      "Epoch 14, Mean Train Loss: 5.880322485446166, Mean Validation Loss: 68.05299287254218\n",
      "Epoch 15, Mean Train Loss: 5.702672100232618, Mean Validation Loss: 66.02137035571988\n",
      "Epoch 16, Mean Train Loss: 5.675963935785859, Mean Validation Loss: 65.35624327281704\n",
      "Epoch 17, Mean Train Loss: 5.57817756932366, Mean Validation Loss: 63.219526484091155\n",
      "Epoch 18, Mean Train Loss: 5.582080901401029, Mean Validation Loss: 66.56112208370641\n",
      "Epoch 19, Mean Train Loss: 5.609582991824071, Mean Validation Loss: 65.4432060784351\n",
      "Epoch 20, Mean Train Loss: 5.545276291600791, Mean Validation Loss: 66.71639993205626\n",
      "Epoch 21, Mean Train Loss: 5.601669840868691, Mean Validation Loss: 71.02774648674874\n",
      "Epoch 22, Mean Train Loss: 5.526324929557124, Mean Validation Loss: 65.87602141873707\n",
      "Epoch 23, Mean Train Loss: 5.600292562420076, Mean Validation Loss: 70.13538725038565\n",
      "Epoch 24, Mean Train Loss: 5.485541821417169, Mean Validation Loss: 65.04654740055862\n",
      "Epoch 25, Mean Train Loss: 5.401700476179515, Mean Validation Loss: 65.17885326256416\n",
      "Epoch 26, Mean Train Loss: 5.456553729154563, Mean Validation Loss: 64.04988262065265\n",
      "Epoch 27, Mean Train Loss: 5.439444408656057, Mean Validation Loss: 64.43860742457721\n",
      "Epoch 28, Mean Train Loss: 5.486383711088805, Mean Validation Loss: 65.42509466606066\n",
      "Epoch 29, Mean Train Loss: 5.545845763160147, Mean Validation Loss: 63.303810678628125\n",
      "Epoch 30, Mean Train Loss: 5.503225690785157, Mean Validation Loss: 63.58351072262996\n",
      "Epoch 31, Mean Train Loss: 5.467832042899796, Mean Validation Loss: 61.31056884432731\n",
      "Epoch 32, Mean Train Loss: 5.383824148982589, Mean Validation Loss: 60.18343905731704\n",
      "Epoch 33, Mean Train Loss: 5.310134314752427, Mean Validation Loss: 59.47154774797462\n",
      "Epoch 34, Mean Train Loss: 5.3469304424903, Mean Validation Loss: 59.229211582632225\n",
      "Epoch 35, Mean Train Loss: 5.327196438555659, Mean Validation Loss: 58.59927178363341\n",
      "Epoch 36, Mean Train Loss: 5.257863756175737, Mean Validation Loss: 55.371318499530304\n",
      "Epoch 37, Mean Train Loss: 5.250852654467785, Mean Validation Loss: 58.755599733133565\n",
      "Epoch 38, Mean Train Loss: 5.363210757021846, Mean Validation Loss: 55.85056119844092\n",
      "Epoch 39, Mean Train Loss: 5.255181975308677, Mean Validation Loss: 52.736366219321\n",
      "Epoch 40, Mean Train Loss: 5.1967240243561434, Mean Validation Loss: 49.97055620798975\n",
      "Epoch 41, Mean Train Loss: 5.052833153930375, Mean Validation Loss: 47.36035621877451\n",
      "Epoch 42, Mean Train Loss: 4.990776249322418, Mean Validation Loss: 45.37173935035882\n",
      "Epoch 43, Mean Train Loss: 4.905758364023655, Mean Validation Loss: 44.260798211619985\n",
      "Epoch 44, Mean Train Loss: 4.842399554334092, Mean Validation Loss: 40.78303340324205\n",
      "Epoch 45, Mean Train Loss: 4.742546173511695, Mean Validation Loss: 38.51403520432096\n",
      "Epoch 46, Mean Train Loss: 4.727416792593089, Mean Validation Loss: 38.817041655257675\n",
      "Epoch 47, Mean Train Loss: 4.751332736244446, Mean Validation Loss: 36.15853185199354\n",
      "Epoch 48, Mean Train Loss: 4.661270436665239, Mean Validation Loss: 35.899100184971374\n",
      "Epoch 49, Mean Train Loss: 4.736509060961514, Mean Validation Loss: 34.87688204250692\n",
      "Epoch 50, Mean Train Loss: 4.696006921352197, Mean Validation Loss: 32.44636327012352\n",
      "Epoch 51, Mean Train Loss: 4.618295649252533, Mean Validation Loss: 30.69484291624407\n",
      "Epoch 52, Mean Train Loss: 4.581650940606891, Mean Validation Loss: 29.54046122367533\n",
      "Epoch 53, Mean Train Loss: 4.552477239862331, Mean Validation Loss: 27.885765081628136\n",
      "Epoch 54, Mean Train Loss: 4.495048895661231, Mean Validation Loss: 26.332394867418923\n",
      "Epoch 55, Mean Train Loss: 4.439576546966362, Mean Validation Loss: 24.740483304802478\n",
      "Epoch 56, Mean Train Loss: 4.39451361478998, Mean Validation Loss: 23.21031818746565\n",
      "Epoch 57, Mean Train Loss: 4.375055439257075, Mean Validation Loss: 22.031695111564304\n",
      "Epoch 58, Mean Train Loss: 4.341853688568975, Mean Validation Loss: 21.57375853144475\n",
      "Epoch 59, Mean Train Loss: 4.330297301048527, Mean Validation Loss: 20.026125060800773\n",
      "Epoch 60, Mean Train Loss: 4.33565120122933, Mean Validation Loss: 19.22850272322168\n",
      "Epoch 61, Mean Train Loss: 4.2873681067020195, Mean Validation Loss: 18.118355118156224\n",
      "Epoch 62, Mean Train Loss: 4.24676875888633, Mean Validation Loss: 18.86625527061741\n",
      "Epoch 63, Mean Train Loss: 4.246835492857624, Mean Validation Loss: 17.140860033799576\n",
      "Epoch 64, Mean Train Loss: 4.212905001398465, Mean Validation Loss: 15.990562327929299\n",
      "Epoch 65, Mean Train Loss: 4.195809155686679, Mean Validation Loss: 15.00370919226751\n",
      "Epoch 66, Mean Train Loss: 4.18381905823039, Mean Validation Loss: 14.023690768680929\n",
      "Epoch 67, Mean Train Loss: 4.176339996796652, Mean Validation Loss: 13.14587025098894\n",
      "Epoch 68, Mean Train Loss: 4.186755342465699, Mean Validation Loss: 12.783061395239214\n",
      "Epoch 69, Mean Train Loss: 4.23413753566803, Mean Validation Loss: 12.289326140419883\n",
      "Epoch 70, Mean Train Loss: 4.244289583912904, Mean Validation Loss: 11.61433545097324\n",
      "Epoch 71, Mean Train Loss: 4.189465009014173, Mean Validation Loss: 11.039670516419177\n",
      "Epoch 72, Mean Train Loss: 4.189537683465044, Mean Validation Loss: 10.494679766686389\n",
      "Epoch 73, Mean Train Loss: 4.163682995030922, Mean Validation Loss: 10.267362944695531\n",
      "Epoch 74, Mean Train Loss: 4.150553711454816, Mean Validation Loss: 10.028640113127413\n",
      "Epoch 75, Mean Train Loss: 4.11931871915971, Mean Validation Loss: 10.142894469088779\n",
      "Epoch 76, Mean Train Loss: 4.097779925914607, Mean Validation Loss: 9.92054329466204\n",
      "Epoch 77, Mean Train Loss: 4.072428232262749, Mean Validation Loss: 10.17762218133106\n",
      "Epoch 78, Mean Train Loss: 4.065642601973987, Mean Validation Loss: 10.015091781412398\n",
      "Epoch 79, Mean Train Loss: 4.070779128947872, Mean Validation Loss: 9.813173745215629\n",
      "Epoch 80, Mean Train Loss: 4.039983933645331, Mean Validation Loss: 9.910787573692954\n",
      "Epoch 81, Mean Train Loss: 4.027772143952553, Mean Validation Loss: 10.057205734567141\n",
      "Epoch 82, Mean Train Loss: 4.017248177426548, Mean Validation Loss: 10.185713489248831\n",
      "Epoch 83, Mean Train Loss: 4.007286124603671, Mean Validation Loss: 10.315591396015877\n",
      "Epoch 84, Mean Train Loss: 4.006693250472318, Mean Validation Loss: 10.570203009186741\n",
      "Epoch 85, Mean Train Loss: 4.024443828607713, Mean Validation Loss: 10.39103089754643\n",
      "Epoch 86, Mean Train Loss: 4.038414342353768, Mean Validation Loss: 10.01723082768312\n",
      "Epoch 87, Mean Train Loss: 4.028738790441819, Mean Validation Loss: 10.056481495778261\n",
      "Epoch 88, Mean Train Loss: 4.045920264892762, Mean Validation Loss: 11.012183219114798\n",
      "Epoch 89, Mean Train Loss: 4.084382831000162, Mean Validation Loss: 10.954362752494914\n",
      "Epoch 90, Mean Train Loss: 4.03656499015413, Mean Validation Loss: 10.84994355887042\n",
      "Epoch 91, Mean Train Loss: 3.986544967397801, Mean Validation Loss: 10.636092308261833\n",
      "Epoch 92, Mean Train Loss: 3.943011601468935, Mean Validation Loss: 10.433053597529234\n",
      "Epoch 93, Mean Train Loss: 3.9110189013728087, Mean Validation Loss: 10.245162684473732\n",
      "Epoch 94, Mean Train Loss: 3.888240252149595, Mean Validation Loss: 10.185440021864771\n",
      "Epoch 95, Mean Train Loss: 3.87361962771072, Mean Validation Loss: 10.165393134895861\n",
      "Epoch 96, Mean Train Loss: 3.861968208237631, Mean Validation Loss: 10.175523651994347\n",
      "Epoch 97, Mean Train Loss: 3.851172195611252, Mean Validation Loss: 10.212765438686176\n",
      "Epoch 98, Mean Train Loss: 3.8419866261479694, Mean Validation Loss: 10.2590598363698\n",
      "Epoch 99, Mean Train Loss: 3.8304047824479777, Mean Validation Loss: 10.321098693226027\n"
     ]
    }
   ],
   "execution_count": 27
  },
  {
   "cell_type": "markdown",
   "metadata": {},
   "source": [
    "### Q1: Implementing rollout code\n",
    "\n",
    "We have a working model now to predict $\\hat{X}^{t+1}$ given $X^t$. However, we of course want to be able to generate trajectories longer than one step (ie for i steps: $\\hat{X}^{t+1:t+i}$), given $X^t$.\n",
    "\n",
    "We sometimes call this a `rollout` - essentially a multi-step prediction.\n",
    "\n",
    "Q1: Complete the method below, which generates a rollout of `timesteps` steps, for a given model `model`, and dataset `dataset` *.\n",
    "\n",
    "HINT: What should happen if the position $x_i, y_i$ of boid $i$ are predicted to move $dx_i, dy_i$, such that $x_i + dx_i > \\text{width}$ or $y_i + dy_i > \\text{height}$?\n",
    "\n",
    "*: If you check the cell below the next cell, we already made a dataset for you that only contains initial positions :)"
   ]
  },
  {
   "cell_type": "code",
   "metadata": {},
   "source": [
    "def compute_ar_set_model_rollouts(model, dataset, timesteps=1000, device='cuda', mode=\"residual\", width = 1000, height = 1000):\n",
    "    \"\"\"\n",
    "    Predict the rollouts of the model on the dataset starting from the idx\n",
    "\n",
    "    Args:\n",
    "        model: PyTorch model\n",
    "        dataset: PyTorch dataset\n",
    "        timesteps: Number of timesteps to predict\n",
    "        device: Device to run the model on\n",
    "        mode: \"residual\" or \"direct\"\n",
    "        - In the solution above, we used the \"residual\" mode, where the model predicts the change in position and velocity\n",
    "        - In the \"direct\" mode, the model predicts the position and velocity directly (if you do not intend to use this mode, you can ignore this argument)\n",
    "        width: Width of the PBC box\n",
    "        height: Height of the PBC box\n",
    "    Returns:\n",
    "        rollouts: Rollouts of the model on the dataset\n",
    "        - Should be a torch tensor of shape (Batch, Timesteps, Boids, Node_dim)\n",
    "    \"\"\"\n",
    "    rollouts = torch.empty((len(dataset), timesteps, dataset[0].x.shape[0], dataset[0].x.shape[1]), device=device)\n",
    "    print(rollouts.shape)\n",
    "\n",
    "    # ~ ^ ~ ^ ~ ^ ~ ^ ~ ^ ~ ^\n",
    "    #     Your code here\n",
    "    # ~ ^ ~ ^ ~ ^ ~ ^ ~ ^ ~ ^\n",
    "\n",
    "    \n",
    "    return rollouts"
   ],
   "outputs": [],
   "execution_count": null
  },
  {
   "cell_type": "code",
   "metadata": {},
   "source": [
    "def keep_01(data):\n",
    "    return data[0:2, :, :]\n",
    "\n",
    "initial_states_validation_dataset = AR_Boids_Dataset(\n",
    "    raw_data_path=\"../../data/boids/raw/\", \n",
    "    processed_data_path=\"../../data/boids/processed/\", \n",
    "    root=\"../../data/boids/\", \n",
    "    solution_idx_range=(16, 25), \n",
    "    timesteps=2, \n",
    "    processed_file_name=\"AR1_VAL_init.pt\",\n",
    "    transform=keep_01\n",
    "    )\n",
    "\n",
    "ar_set_model = AR_Set_Model(emb_dim=64)\n",
    "ar_set_model.load_state_dict(torch.load(\"../../models/01-AR-Set-Model.pt\"))\n",
    "device = 'cuda' if torch.cuda.is_available() else 'cpu'\n",
    "ar_set_model.to(device)\n",
    "ar_set_model.eval()\n",
    "\n",
    "ar_set_model_rollout = compute_ar_set_model_rollouts(ar_set_model, initial_states_validation_dataset, timesteps=1000, device=device)"
   ],
   "outputs": [],
   "execution_count": null
  },
  {
   "cell_type": "markdown",
   "metadata": {},
   "source": [
    "We'll evaluate these rollouts later."
   ]
  },
  {
   "cell_type": "markdown",
   "metadata": {},
   "source": [
    "### Quick recap on equivariances\n",
    "\n",
    "<img src=\"figures/boids-translational-equivariance.png\" alt=\"drawing\" width=\"250\" style=\"background-color: white; padding: 50px;\"/>\n",
    "<img src=\"figures/boids-rotational-equivariance.png\" alt=\"drawing\" width=\"250\" style=\"background-color: white; padding: 50px;\"/>\n",
    "\n",
    "The figures above show the equivariances of the Boids system. The system is equivariant to all E(n) transformations; translation,\n",
    "rotation and reflection.*\n",
    "\n",
    "Formally, we say a function $f: X \\rarr Y$ is _equivariant_ to a group action or transformation $T: X \\rarr X$ if there is an equivalent transformation $S: Y \\rarr Y$ on the output space of the function such that\n",
    "\n",
    "$f(T(x)) = S(f(x))$ for each $x \\in X$\n",
    "\n",
    "We won't go into the formal definitions of each equivariance, but if you're interested you can check out the [E(n) Equivariant Graph Neural Networks](https://arxiv.org/pdf/2102.09844) paper [3], the equivariant model is based on. \n",
    "\n",
    "*: Excluding time translation equivariance, which states that there is no dependence on the time of the system, only the state.\n",
    "\n",
    "*: Also excluding permutational equivariance; the order of the nodes does not matter.\n",
    "\n",
    "## Towards Equivariant AR-GNNs\n",
    "The above model is **not** equivariant to translations in space! This is because we use absolute coordinates as _node features_, which creates a dependence on the absolute coordinate system. Instead, if we do not use the absolute positions as node features - and include the PBC distance as _edge features_ - the predictions will be space translation equivariant.\n",
    "\n",
    "Let's implement this!"
   ]
  },
  {
   "cell_type": "markdown",
   "metadata": {},
   "source": [
    "Before, we were not using the fact that boids only affect eachother within a certain radius, since we used a fully connected graph without edge weights.\n",
    "\n",
    "Before blindly jumping into the new dataset code, let's investigate this behavior."
   ]
  },
  {
   "cell_type": "code",
   "metadata": {},
   "source": [
    "# Plot timesteps 0, 250, 500, 750, 999 for the first trajectory\n",
    "trajectory = trajectories[0]\n",
    "fig, axs = plt.subplots(1, 5, figsize=(20, 4))\n",
    "fig.suptitle(\"Boids with radius of effect\")\n",
    "radius = 40\n",
    "\n",
    "for i, t in enumerate([0, 250, 500, 750, 999]):\n",
    "    axs[i].set_title(f\"Timestep {t}\")\n",
    "    # Plot dots for the boids\n",
    "    axs[i].scatter(trajectory[t, :, 0], trajectory[t, :, 1])\n",
    "    # Draw a red circle around each boid to indicate the radius\n",
    "    for j in range(trajectory.shape[1]):\n",
    "        circle = plt.Circle((trajectory[t, j, 0], trajectory[t, j, 1]), radius, color='r', fill=False)\n",
    "        axs[i].add_artist(circle)\n",
    "    # plot the boid velocities as arrows\n",
    "    for j in range(trajectory.shape[1]):\n",
    "        # NOTE: The arrows are made larger for effect\n",
    "        axs[i].arrow(trajectory[t, j, 0], trajectory[t, j, 1], trajectory[t, j, 2]*5, trajectory[t, j, 3]*5)\n",
    "plt.show()"
   ],
   "outputs": [],
   "execution_count": null
  },
  {
   "cell_type": "markdown",
   "metadata": {},
   "source": [
    "Above, we show the boids with their radius of effect. As expected, boids who are farther than `radius=40` units away from eachother, are shown to not affect eachother. \n",
    "\n",
    "## Question 2: Implement your own model\n",
    "\n",
    "As discussed above, the Boids system is equivariant to\n",
    "- Permutation\n",
    "- Translation\n",
    "- Rotation/Reflection\n",
    "\n",
    "Your next task is to build a model that is at least* equivariant to permutation and translation. Make sure your model adheres to the PBC, either via the loss function or position updates.\n",
    "\n",
    "For this you will have to code up:\n",
    "\n",
    "1. The `InMemoryDataset` used when training your model.\n",
    "2. The Permutation/Translation Equivariant model `TranslationalEquivariantModel`\n",
    "3. Possibly a new rollout method `model2_rollouts`\n",
    "    - HINT: Depending on your design choices, you may need to store the initial coordinates of your nodes.\n",
    "\n",
    "*: You are of course welcome to build a model that is E(n) equivariant, but this is next week's material `:^)`"
   ]
  },
  {
   "cell_type": "code",
   "metadata": {},
   "source": [
    "from tqdm import trange\n",
    "\n",
    "class Equivariant_Boids_Dataset(InMemoryDataset):\n",
    "    def __init__(self, raw_data_path, processed_data_path, root=None, transform=None, pre_transform=None, post_transform=None, solution_idx_range=(0, 25), timesteps=1000, processed_file_name=\"AR1_Boids.pt\", L = 1000):\n",
    "        self.raw_data_path = raw_data_path\n",
    "        self.processed_data_path = processed_data_path\n",
    "        self.solution_idx_range = solution_idx_range\n",
    "        self.timesteps = timesteps\n",
    "        self.processed_file_name = processed_file_name\n",
    "        self.pre_transform = pre_transform\n",
    "        self.transform = transform\n",
    "        self.post_transform = post_transform\n",
    "        self.L = L\n",
    "        super(Equivariant_Boids_Dataset, self).__init__(root, transform, pre_transform)\n",
    "        self.data, self.slices = torch.load(self.processed_paths[0])\n",
    "\n",
    "    @property\n",
    "    def processed_file_names(self):\n",
    "        return [self.processed_file_name]\n",
    "\n",
    "    @property\n",
    "    def raw_file_names(self):\n",
    "        return [pfn for pfn in os.listdir(self.raw_data_path) if (self.solution_idx_range[0] <= int(pfn.split(\"_\")[-1][:-4]) < self.solution_idx_range[1])]\n",
    "    \n",
    "    def download(self):\n",
    "        pass\n",
    "    \n",
    "    def __len__(self):\n",
    "        return (self.timesteps - 1) * (self.solution_idx_range[1] - self.solution_idx_range[0])\n",
    "\n",
    "    def process(self):\n",
    "        # TODO: TODO: TODO: TODO: TODO:\n",
    "        \"\"\"\n",
    "        Your code goes here.\n",
    "\n",
    "        Process the raw data and save the processed data to disk, see the AR_Boids_Dataset for an example.\n",
    "        \n",
    "        HINT: Make sure your learning task adheres to the PBC constraints - depending on your approach, \n",
    "        you may need to include the PBC constraints in the data processing step.\n",
    "        \"\"\"\n",
    "        pass\n",
    "        \n",
    "    def __getitem__(self, idx):\n",
    "        return self.get(idx)\n",
    "    \n",
    "    def __repr__(self):\n",
    "        return f'{self.__class__.__name__}({len(self)})'"
   ],
   "outputs": [],
   "execution_count": null
  },
  {
   "cell_type": "code",
   "metadata": {},
   "source": [
    "equivariant_train_dataset = Equivariant_Boids_Dataset(\n",
    "    raw_data_path=\"../../data/boids/raw/\", \n",
    "    processed_data_path=\"../../data/boids/processed/\", \n",
    "    root=\"../../data/boids/\", \n",
    "    solution_idx_range=(0, 15), \n",
    "    timesteps=1000, \n",
    "    processed_file_name=\"AR1_Boids_Equivariant.pt\"\n",
    "    )\n",
    "\n",
    "equivariant_validation_dataset = Equivariant_Boids_Dataset(\n",
    "    raw_data_path=\"../../data/boids/raw/\", \n",
    "    processed_data_path=\"../../data/boids/processed/\", \n",
    "    root=\"../../data/boids/\", \n",
    "    solution_idx_range=(16, 25), \n",
    "    timesteps=1000, \n",
    "    processed_file_name=\"AR1_VAL_Boids_Equivariant.pt\"\n",
    "    )\n"
   ],
   "outputs": [],
   "execution_count": null
  },
  {
   "cell_type": "code",
   "metadata": {},
   "source": [
    "init_positions = torch.load(\"../../data/boids/processed/positions_AR1_Boids_Equivariant.pt\")\n",
    "print(init_positions.shape)\n",
    "init_val_positions = torch.load(\"../../data/boids/processed/positions_AR1_VAL_Boids_Equivariant.pt\")\n",
    "print(init_val_positions.shape)"
   ],
   "outputs": [],
   "execution_count": null
  },
  {
   "cell_type": "code",
   "metadata": {},
   "source": [
    "class TranslationalEquivariantModel(torch.nn.Module):\n",
    "    def __init__(self):\n",
    "        super(TranslationalEquivariantModel, self).__init__()\n",
    "        # TODO: TODO: TODO: TODO: TODO:\n",
    "        \"\"\"Your code goes here\"\"\"\n",
    "        pass\n",
    "\n",
    "    def forward(self, data):\n",
    "        # TODO: TODO: TODO: TODO: TODO:\n",
    "        \"\"\"\n",
    "        Your code goes here\n",
    "        \n",
    "        \"\"\"\n",
    "        # NOTE: You may use different data attributes instead of x, edge_index, edge_attr\n",
    "        # But you should pass a Data object to the model \n",
    "        # (see the AR_Set_Model for an example and the Trainer class for how this is used)\n",
    "        x, edge_index, edge_attr = data.x, data.edge_index, data.edge_attr\n",
    "\n",
    "        y = None\n",
    "        return y"
   ],
   "outputs": [],
   "execution_count": null
  },
  {
   "cell_type": "code",
   "metadata": {},
   "source": [
    "translational_equivariant_model = TranslationalEquivariantModel()\n",
    "trainer = Trainer(translational_equivariant_model, equivariant_train_dataset, equivariant_validation_dataset, batch_size=8, loss_fn=torch.nn.MSELoss(), epochs=100, model_name=\"02-Translational-Equivariant-Model.pt\")\n",
    "trainer.train_loop()"
   ],
   "outputs": [],
   "execution_count": null
  },
  {
   "cell_type": "code",
   "metadata": {},
   "source": [
    "def model2_rollouts(model, dataset, positions_dataset, timesteps=1000, device='cuda', mode=\"residual\", width = 1000, height = 1000):\n",
    "    \"\"\"\n",
    "    Predict the rollouts of the model on the dataset starting from the idx\n",
    "\n",
    "    Args:\n",
    "        model: PyTorch model\n",
    "        dataset: PyTorch dataset\n",
    "        timesteps: Number of timesteps to predict\n",
    "        device: Device to run the model on\n",
    "        mode: \"residual\" or \"direct\"\n",
    "        - In the solution above, we used the \"residual\" mode, where the model predicts the change in position and velocity\n",
    "        - In the \"direct\" mode, the model predicts the position and velocity directly (if you do not intend to use this mode, you can ignore this argument)\n",
    "        width: Width of the PBC box\n",
    "        height: Height of the PBC box\n",
    "    Returns:\n",
    "        rollouts: Rollouts of the model on the dataset\n",
    "        - Should be a torch tensor of shape (Batch, Timesteps, Boids, Node_dim)\n",
    "    \"\"\"\n",
    "    rollouts = torch.empty((len(dataset), timesteps, dataset[0].x.shape[0], dataset[0].x.shape[1]), device=device)\n",
    "    print(rollouts.shape)\n",
    "\n",
    "    # ~ ^ ~ ^ ~ ^ ~ ^ ~ ^ ~ ^\n",
    "    #     Your code here\n",
    "    # ~ ^ ~ ^ ~ ^ ~ ^ ~ ^ ~ ^\n",
    "\n",
    "    \n",
    "    return rollouts"
   ],
   "outputs": [],
   "execution_count": null
  },
  {
   "cell_type": "code",
   "metadata": {},
   "source": [
    "initial_states_validation_dataset = AR_Boids_Dataset(\n",
    "    raw_data_path=\"../../data/boids/raw/\", \n",
    "    processed_data_path=\"../../data/boids/processed/\", \n",
    "    root=\"../../data/boids/\", \n",
    "    solution_idx_range=(16, 25), \n",
    "    timesteps=2, \n",
    "    processed_file_name=\"AR1_VAL_Equivariant_init.pt\",\n",
    "    transform=keep_01\n",
    "    )\n",
    "\n",
    "print(initial_states_validation_dataset[1])\n",
    "\n",
    "translational_equivariant_model_rollout = model2_rollouts(model, initial_states_validation_dataset, init_val_positions.to(device), timesteps=1000, device=device)"
   ],
   "outputs": [],
   "execution_count": null
  },
  {
   "cell_type": "markdown",
   "metadata": {},
   "source": [
    "Above, we show the boids with their radius of effect. As expected, boids who are farther than `radius=40` units away from eachother, are shown to not affect eachother. \n",
    "\n",
    "So in our dataset, we form undirected edges between nodes with a max PBC distance of 40 units."
   ]
  },
  {
   "cell_type": "markdown",
   "metadata": {},
   "source": [
    "## E(n) Equivariant Graph Neural Networks\n",
    "In Satorras, Hoogeboom, Welling's paper [3] with the same name, they introduce a relatively simple model that is equivariant to E(n) transformations. Next lecture will be on how their framework works, and next practical we will implement it from scratch. \n",
    "\n",
    "If you have too much time on your hands, give their [paper](https://arxiv.org/pdf/2102.09844) [3] a read, and check out their [implementation](https://github.com/vgsatorras/egnn)"
   ]
  },
  {
   "cell_type": "markdown",
   "metadata": {},
   "source": [
    "## Evaluating scientific AI models\n",
    "\n",
    "The Boids simulations are very sensitive to changes in the initial state. Slight changes in the initial state can lead to drastically different final states. Similarly, emulations (the neural network predictions) can accumulate errors very quickly.\n",
    "\n",
    "Using MSE to compare models to the ground truth or to eachother here does not account for this error accumulation. As a result, a likely generated/predicted trajectory can have high MSE.\n",
    "\n",
    "Luckily for us, there are usually better ways to evaluate models! When working in an interdisciplinary group, the physics wizards will propose a metric that should hold true even when trajectories diverge, or our predictions suffer from accumulating errors.\n",
    "\n",
    "In the Boids setting, we can investigate the distribution of velocities, since these should (hopefully) remain invariant even under diverging trajectories / error accumulation.\n",
    "\n",
    "If we plot them visually, we want to investigate how different the predicted velocity distributions are from the ground truth velocity distributions. However, since we have to investigate the distributions for each timestep, let's use the Kullback-Leibler Divergence ($D_\\text{KL}$) metric to measure the difference. For two distributions $P$ and $Q$, it is defined as follows:\n",
    "\n",
    "\n",
    "$D_\\text{KL}(P||Q) = \\int p(x) \\ln \\frac{p(x)}{q(x)} \\text{d} x $\n",
    "\n",
    "\n",
    "![KL Divergence](https://hugocisneros.com/ox-hugo/forwardvsreversedKL.jpg)\n",
    "\n",
    "\n",
    "The $D_\\text{KL}$ between two distributions $P$ and $Q$ is asymmetric, meaning $D_\\text{KL}(P||Q) \\neq D_\\text{KL}(Q||P)$, as illustrated above. \n",
    "\n",
    "Since we care more whether the predicted distribution $Q$ fits under the ground truth distribution $P$, we will use the reverse KL: $D_\\text{KL}(Q||P)$"
   ]
  },
  {
   "cell_type": "code",
   "metadata": {},
   "source": [
    "def compare_distributions(dist1, dist2):\n",
    "    \"\"\"\n",
    "    Compare two distributions by computing the KL divergence\n",
    "\n",
    "    Args:\n",
    "        dist1: torch.distributions.Distribution\n",
    "        dist2: torch.distributions.Distribution\n",
    "    \"\"\"\n",
    "    kl = torch.distributions.kl_divergence(dist1, dist2)\n",
    "    return kl\n",
    "\n",
    "def compute_distribution_per_timestep(data, timesteps):\n",
    "    \"\"\"\n",
    "    Compute the distribution of the data per timestep\n",
    "\n",
    "    Args:\n",
    "        data: torch.Tensor of shape (T, N, 4)\n",
    "        timesteps: int, number of timesteps to compute the distribution for\n",
    "\n",
    "    Returns:\n",
    "        list of torch.distributions.Normal\n",
    "    \"\"\"\n",
    "    distributions = []\n",
    "    for t in range(timesteps):\n",
    "        # Compute the mean and std of the data\n",
    "        mean = data[:, t, :, :].mean()\n",
    "        std = data[:, t, :, :].std()\n",
    "        dist = torch.distributions.Normal(mean, std)\n",
    "        distributions.append(dist)\n",
    "    return distributions\n",
    "\n",
    "def compute_mean_kl_divergence(data, distributions):\n",
    "    \"\"\"\n",
    "    Compute the mean KL divergence between the data and the distributions\n",
    "\n",
    "    Args:\n",
    "        data: torch.Tensor of shape (T, N, 4)\n",
    "        distributions: list of torch.distributions.Normal\n",
    "\n",
    "    Returns:\n",
    "        float\n",
    "    \"\"\"\n",
    "    kl_divergences = []\n",
    "    for t in range(data.shape[0]):\n",
    "        kl = compare_distributions(distributions[t], data[t, :, :])\n",
    "        kl_divergences.append(kl)\n",
    "    return torch.tensor(kl_divergences).mean()\n",
    "\n",
    "def plot_kl_divergence(distributions1, distributions2, title=\"KL Divergence between <distributions1> and <distributions2>\"):\n",
    "    \"\"\"\n",
    "    Plot the KL divergence between the data and the distributions\n",
    "\n",
    "    Args:\n",
    "        distributions1: list of torch.distributions.Normal\n",
    "        distributions2: list of torch.distributions.Normal\n",
    "    \"\"\"\n",
    "    kl_divergences = []\n",
    "    for t in range(len(distributions1)):\n",
    "        kl = compare_distributions(distributions1[t], distributions2[t]).cpu().numpy()\n",
    "        kl_divergences.append(kl)\n",
    "\n",
    "\n",
    "    plt.plot(kl_divergences)\n",
    "    plt.xlabel(\"Timestep\")\n",
    "    plt.ylabel(\"KL Divergence\")\n",
    "    plt.title(title)\n",
    "    plt.show()"
   ],
   "outputs": [],
   "execution_count": null
  },
  {
   "cell_type": "code",
   "metadata": {},
   "source": [
    "validation_files = [pfn for pfn in os.listdir(\"../../data/boids/raw/\") if (16 <= int(pfn.split(\"_\")[-1][:-4]) < 25)]\n",
    "validation_trajectories = [np.load(\"../../data/boids/raw/\" + f) for f in validation_files]\n",
    "validation_trajectories = torch.tensor(validation_trajectories, dtype=torch.float)\n",
    "\n",
    "dists_GT = compute_distribution_per_timestep(validation_trajectories[:,:,:,2:], 1000)\n",
    "dists_AR_set = compute_distribution_per_timestep(ar_set_model_rollout[:,:,:,2:], 1000)\n",
    "plot_kl_divergence(dists_AR_set, dists_GT, title=\"KL Divergence between AR Set Model velocities and the GT velocities per timestep\")\n",
    "\n"
   ],
   "outputs": [],
   "execution_count": null
  },
  {
   "cell_type": "code",
   "metadata": {},
   "source": [
    "dists_equivariant = compute_distribution_per_timestep(translational_equivariant_model_rollout, 1000)\n",
    "plot_kl_divergence(dists_equivariant, dists_GT, title=\"KL Divergence between Translational Equivariant Model velocities and the GT velocities per timestep\")"
   ],
   "outputs": [],
   "execution_count": null
  },
  {
   "cell_type": "markdown",
   "metadata": {},
   "source": [
    "## Question 3:\n",
    "Now that we have some plots for both models, provide some comparison between the two.\n",
    "\n",
    "3a. What can you infer from these KL divergence plots?\n",
    "\n",
    "3b. What would you improve in this evaluation routine?\n",
    "- HINT: What assumptions do we make when computing the distributions (in `compute_distributions_per_timestep`)?\n",
    "\n",
    "### Next week's content\n",
    "Next week, in addition to going over E(n) equivariant models, we will explore another method for evaluating scientific AI model - with _sensitivity analysis_."
   ]
  },
  {
   "cell_type": "markdown",
   "metadata": {},
   "source": [
    "# References\n",
    "\n",
    "[1] Minartz, K., Poels, Y., Koop, S., & Menkovski, V. (2023). Equivariant Neural Simulators for Stochastic Spatiotemporal Dynamics. https://openreview.net/forum?id=CCVsGbhFdj\n",
    "\n",
    "[2] Reynolds, C. W. (1987) Flocks, Herds, and Schools: A Distributed Behavioral Model, in Computer Graphics, 21(4) (SIGGRAPH '87 Conference Proceedings) pages 25-34.\n",
    "\n",
    "[3] Satorras, V. G., Hoogeboom, E., & Welling, M. (2021, July). E (n) equivariant graph neural networks. In International conference on machine learning (pp. 9323-9332). PMLR."
   ]
  }
 ],
 "metadata": {
  "kernelspec": {
   "display_name": "Python 3",
   "language": "python",
   "name": "python3"
  },
  "language_info": {
   "codemirror_mode": {
    "name": "ipython",
    "version": 3
   },
   "file_extension": ".py",
   "mimetype": "text/x-python",
   "name": "python",
   "nbconvert_exporter": "python",
   "pygments_lexer": "ipython3",
   "version": "3.11.2"
  }
 },
 "nbformat": 4,
 "nbformat_minor": 2
}
